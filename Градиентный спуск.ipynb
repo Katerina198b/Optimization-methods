{
 "cells": [
  {
   "cell_type": "markdown",
   "metadata": {},
   "source": [
    "## Метод градиентного спуска с постоянным шагом\n",
    "### Замятина Екатерина 476 группа"
   ]
  },
  {
   "cell_type": "code",
   "execution_count": 6,
   "metadata": {
    "collapsed": true
   },
   "outputs": [],
   "source": [
    "import pandas as pd"
   ]
  },
  {
   "cell_type": "code",
   "execution_count": 7,
   "metadata": {
    "collapsed": false
   },
   "outputs": [],
   "source": [
    "data = pd.read_csv('data1.csv', encoding='utf7').astype(float)"
   ]
  },
  {
   "cell_type": "markdown",
   "metadata": {},
   "source": [
    "### Матрица ковариации"
   ]
  },
  {
   "cell_type": "code",
   "execution_count": 8,
   "metadata": {
    "collapsed": false,
    "scrolled": true
   },
   "outputs": [
    {
     "data": {
      "text/html": [
       "<div>\n",
       "<table border=\"1\" class=\"dataframe\">\n",
       "  <thead>\n",
       "    <tr style=\"text-align: right;\">\n",
       "      <th></th>\n",
       "      <th>SBER</th>\n",
       "      <th>MEGAFON</th>\n",
       "      <th>YANDEX</th>\n",
       "      <th>ROSN</th>\n",
       "    </tr>\n",
       "  </thead>\n",
       "  <tbody>\n",
       "    <tr>\n",
       "      <th>SBER</th>\n",
       "      <td>0.001747</td>\n",
       "      <td>0.000317</td>\n",
       "      <td>0.001005</td>\n",
       "      <td>0.001107</td>\n",
       "    </tr>\n",
       "    <tr>\n",
       "      <th>MEGAFON</th>\n",
       "      <td>0.000317</td>\n",
       "      <td>0.001488</td>\n",
       "      <td>0.000438</td>\n",
       "      <td>0.000527</td>\n",
       "    </tr>\n",
       "    <tr>\n",
       "      <th>YANDEX</th>\n",
       "      <td>0.001005</td>\n",
       "      <td>0.000438</td>\n",
       "      <td>0.002834</td>\n",
       "      <td>0.000879</td>\n",
       "    </tr>\n",
       "    <tr>\n",
       "      <th>ROSN</th>\n",
       "      <td>0.001107</td>\n",
       "      <td>0.000527</td>\n",
       "      <td>0.000879</td>\n",
       "      <td>0.001927</td>\n",
       "    </tr>\n",
       "  </tbody>\n",
       "</table>\n",
       "</div>"
      ],
      "text/plain": [
       "             SBER   MEGAFON    YANDEX      ROSN\n",
       "SBER     0.001747  0.000317  0.001005  0.001107\n",
       "MEGAFON  0.000317  0.001488  0.000438  0.000527\n",
       "YANDEX   0.001005  0.000438  0.002834  0.000879\n",
       "ROSN     0.001107  0.000527  0.000879  0.001927"
      ]
     },
     "execution_count": 8,
     "metadata": {},
     "output_type": "execute_result"
    }
   ],
   "source": [
    "data.cov()"
   ]
  },
  {
   "cell_type": "code",
   "execution_count": 9,
   "metadata": {
    "collapsed": true
   },
   "outputs": [],
   "source": [
    "import numpy as np"
   ]
  },
  {
   "cell_type": "markdown",
   "metadata": {},
   "source": [
    "#### Размер штрафа t"
   ]
  },
  {
   "cell_type": "code",
   "execution_count": 10,
   "metadata": {
    "collapsed": false
   },
   "outputs": [],
   "source": [
    "t = 1\n",
    "omega = np.array(data.cov())"
   ]
  },
  {
   "cell_type": "markdown",
   "metadata": {},
   "source": [
    "$ min (\\frac{1}{2} x^T \\Omega x + t(\\sum(x_i) - 1)^2)$, где $\\Omega$ - матрица ковариации"
   ]
  },
  {
   "cell_type": "code",
   "execution_count": 11,
   "metadata": {
    "collapsed": false
   },
   "outputs": [],
   "source": [
    "def f(x):\n",
    "    x = np.array(x)\n",
    "    return 0.5*np.dot(np.dot(x.T, omega), x) + t*(np.square(np.sum(x)-1))\n",
    "\n",
    "def gradient(x):\n",
    "    return np.dot(omega,x) + t*(2*(np.sum(x)-1)*np.ones(len(x)))"
   ]
  },
  {
   "cell_type": "code",
   "execution_count": 53,
   "metadata": {
    "collapsed": false
   },
   "outputs": [],
   "source": [
    "def gradient_descent(step, start_point, max_number_iterations, eps = 10**(-8)):\n",
    "    current_point = start_point\n",
    "    for i in range(max_number_iterations):\n",
    "        grad = gradient(current_point)\n",
    "        if (i>0):\n",
    "            if np.dot(current_point - previous_point, current_point - previous_point) < eps*eps:\n",
    "                return current_point, f(current_point), np.sum(current_point), i\n",
    "            else:\n",
    "                previous_point = current_point\n",
    "                current_point = current_point - step * grad       \n",
    "        else: \n",
    "            previous_point = current_point\n",
    "            current_point = current_point - step * grad\n",
    "                    \n",
    "    return current_point, f(current_point), np.sum(current_point), \"over 500000\""
   ]
  },
  {
   "cell_type": "code",
   "execution_count": 76,
   "metadata": {
    "collapsed": false,
    "scrolled": true
   },
   "outputs": [
    {
     "name": "stderr",
     "output_type": "stream",
     "text": [
      "/root/anaconda2/lib/python2.7/site-packages/ipykernel/__main__.py:3: RuntimeWarning: overflow encountered in square\n",
      "  app.launch_new_instance()\n"
     ]
    }
   ],
   "source": [
    "start_point = 0.25*np.ones(4)\n",
    "df2 = pd.DataFrame({ 'Шаг 0.05' : gradient_descent(0.05,start_point, max_number_iterations=500000), \n",
    "                       'Шаг 0.2' : gradient_descent(0.2,start_point, max_number_iterations=500000),\n",
    "                       'Шаг 0.25' : gradient_descent(0.25,start_point, max_number_iterations=500000),\n",
    "                    }, index = [\"x\", \"f(x)\", \"sum(x)\", \"method converged at iteration\"])"
   ]
  },
  {
   "cell_type": "markdown",
   "metadata": {},
   "source": [
    "### Зависимость сходимости метода от шага"
   ]
  },
  {
   "cell_type": "code",
   "execution_count": 77,
   "metadata": {
    "collapsed": false,
    "scrolled": false
   },
   "outputs": [
    {
     "data": {
      "text/html": [
       "<div>\n",
       "<table border=\"1\" class=\"dataframe\">\n",
       "  <thead>\n",
       "    <tr style=\"text-align: right;\">\n",
       "      <th></th>\n",
       "      <th>Шаг 0.05</th>\n",
       "      <th>Шаг 0.2</th>\n",
       "      <th>Шаг 0.25</th>\n",
       "    </tr>\n",
       "  </thead>\n",
       "  <tbody>\n",
       "    <tr>\n",
       "      <th>x</th>\n",
       "      <td>[0.295527368085, 0.473994929682, 0.10431315412...</td>\n",
       "      <td>[0.295678728918, 0.474016964254, 0.10428669939...</td>\n",
       "      <td>[3.455977724e+220, 3.45537020858e+220, 3.45640...</td>\n",
       "    </tr>\n",
       "    <tr>\n",
       "      <th>f(x)</th>\n",
       "      <td>0.000455423</td>\n",
       "      <td>0.000455423</td>\n",
       "      <td>inf</td>\n",
       "    </tr>\n",
       "    <tr>\n",
       "      <th>sum(x)</th>\n",
       "      <td>0.999545</td>\n",
       "      <td>0.999545</td>\n",
       "      <td>1.38238e+221</td>\n",
       "    </tr>\n",
       "    <tr>\n",
       "      <th>method converged at iteration</th>\n",
       "      <td>180170</td>\n",
       "      <td>54917</td>\n",
       "      <td>over 500000</td>\n",
       "    </tr>\n",
       "  </tbody>\n",
       "</table>\n",
       "</div>"
      ],
      "text/plain": [
       "                                                                        Шаг 0.05  \\\n",
       "x                              [0.295527368085, 0.473994929682, 0.10431315412...   \n",
       "f(x)                                                                 0.000455423   \n",
       "sum(x)                                                                  0.999545   \n",
       "method converged at iteration                                             180170   \n",
       "\n",
       "                                                                         Шаг 0.2  \\\n",
       "x                              [0.295678728918, 0.474016964254, 0.10428669939...   \n",
       "f(x)                                                                 0.000455423   \n",
       "sum(x)                                                                  0.999545   \n",
       "method converged at iteration                                              54917   \n",
       "\n",
       "                                                                        Шаг 0.25  \n",
       "x                              [3.455977724e+220, 3.45537020858e+220, 3.45640...  \n",
       "f(x)                                                                         inf  \n",
       "sum(x)                                                              1.38238e+221  \n",
       "method converged at iteration                                        over 500000  "
      ]
     },
     "execution_count": 77,
     "metadata": {},
     "output_type": "execute_result"
    }
   ],
   "source": [
    "df2"
   ]
  },
  {
   "cell_type": "markdown",
   "metadata": {},
   "source": [
    "#### Если решать аналитически"
   ]
  },
  {
   "cell_type": "markdown",
   "metadata": {},
   "source": [
    "$f(x) = \\frac{1}{2} x^T \\Omega x + t(\\sum(x_i) - 1)^2$ - выпуклая функция, поэтому $\\nabla f(x) = 0$ необходимое и достаточное условие экстремума. \n",
    "$\\nabla f(x) = \\Omega x + 2t(\\sum(x_i) - 1) = 0$\n"
   ]
  },
  {
   "cell_type": "code",
   "execution_count": 61,
   "metadata": {
    "collapsed": false
   },
   "outputs": [],
   "source": [
    "omega1 = omega + 2*t*(np.ones(4)*np.ones(4).T)\n",
    "x = np.linalg.solve(omega1, 2*t*np.ones(4))"
   ]
  },
  {
   "cell_type": "code",
   "execution_count": 63,
   "metadata": {
    "collapsed": false
   },
   "outputs": [
    {
     "data": {
      "text/plain": [
       "array([ 0.29572925,  0.4740242 ,  0.10427785,  0.12551328])"
      ]
     },
     "execution_count": 63,
     "metadata": {},
     "output_type": "execute_result"
    }
   ],
   "source": [
    "x"
   ]
  },
  {
   "cell_type": "markdown",
   "metadata": {},
   "source": [
    "#### Видим, что решения при шаге step = 0.02 решение ближе всего к точному.\n",
    "### Та-дададам, конец!"
   ]
  }
 ],
 "metadata": {
  "kernelspec": {
   "display_name": "Python 2",
   "language": "python",
   "name": "python2"
  },
  "language_info": {
   "codemirror_mode": {
    "name": "ipython",
    "version": 2
   },
   "file_extension": ".py",
   "mimetype": "text/x-python",
   "name": "python",
   "nbconvert_exporter": "python",
   "pygments_lexer": "ipython2",
   "version": "2.7.13"
  }
 },
 "nbformat": 4,
 "nbformat_minor": 2
}
