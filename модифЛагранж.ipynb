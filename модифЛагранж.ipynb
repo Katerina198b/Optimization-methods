{
 "cells": [
  {
   "cell_type": "markdown",
   "metadata": {},
   "source": [
    "## Метод модифицированной функции Лагранжа\n",
    "#### Замятина Екатерина 476 группа"
   ]
  },
  {
   "cell_type": "code",
   "execution_count": 3,
   "metadata": {
    "collapsed": true
   },
   "outputs": [],
   "source": [
    "import pandas as pd"
   ]
  },
  {
   "cell_type": "code",
   "execution_count": 4,
   "metadata": {
    "collapsed": true
   },
   "outputs": [],
   "source": [
    "data = pd.read_csv('data1.csv', encoding='utf7').astype(float)"
   ]
  },
  {
   "cell_type": "markdown",
   "metadata": {},
   "source": [
    "## Матрица ковариации"
   ]
  },
  {
   "cell_type": "code",
   "execution_count": 3,
   "metadata": {
    "collapsed": false,
    "scrolled": true
   },
   "outputs": [
    {
     "data": {
      "text/html": [
       "<div>\n",
       "<table border=\"1\" class=\"dataframe\">\n",
       "  <thead>\n",
       "    <tr style=\"text-align: right;\">\n",
       "      <th></th>\n",
       "      <th>SBER</th>\n",
       "      <th>MEGAFON</th>\n",
       "      <th>YANDEX</th>\n",
       "      <th>ROSN</th>\n",
       "    </tr>\n",
       "  </thead>\n",
       "  <tbody>\n",
       "    <tr>\n",
       "      <th>SBER</th>\n",
       "      <td>0.001747</td>\n",
       "      <td>0.000317</td>\n",
       "      <td>0.001005</td>\n",
       "      <td>0.001107</td>\n",
       "    </tr>\n",
       "    <tr>\n",
       "      <th>MEGAFON</th>\n",
       "      <td>0.000317</td>\n",
       "      <td>0.001488</td>\n",
       "      <td>0.000438</td>\n",
       "      <td>0.000527</td>\n",
       "    </tr>\n",
       "    <tr>\n",
       "      <th>YANDEX</th>\n",
       "      <td>0.001005</td>\n",
       "      <td>0.000438</td>\n",
       "      <td>0.002834</td>\n",
       "      <td>0.000879</td>\n",
       "    </tr>\n",
       "    <tr>\n",
       "      <th>ROSN</th>\n",
       "      <td>0.001107</td>\n",
       "      <td>0.000527</td>\n",
       "      <td>0.000879</td>\n",
       "      <td>0.001927</td>\n",
       "    </tr>\n",
       "  </tbody>\n",
       "</table>\n",
       "</div>"
      ],
      "text/plain": [
       "             SBER   MEGAFON    YANDEX      ROSN\n",
       "SBER     0.001747  0.000317  0.001005  0.001107\n",
       "MEGAFON  0.000317  0.001488  0.000438  0.000527\n",
       "YANDEX   0.001005  0.000438  0.002834  0.000879\n",
       "ROSN     0.001107  0.000527  0.000879  0.001927"
      ]
     },
     "execution_count": 3,
     "metadata": {},
     "output_type": "execute_result"
    }
   ],
   "source": [
    "data.cov()"
   ]
  },
  {
   "cell_type": "code",
   "execution_count": 2,
   "metadata": {
    "collapsed": true
   },
   "outputs": [],
   "source": [
    "import numpy as np\n",
    "import math"
   ]
  },
  {
   "cell_type": "code",
   "execution_count": 5,
   "metadata": {
    "collapsed": false
   },
   "outputs": [],
   "source": [
    "t= 1\n",
    "omega = np.array(data.cov())"
   ]
  },
  {
   "cell_type": "markdown",
   "metadata": {},
   "source": [
    "$$min (\\frac{1}{2} x^T \\Omega x)$$\n",
    "\n",
    "  где $\\Omega$ - матрица ковариации и выполнены условия:\n",
    "\n",
    "\n",
    "$$h(x) = \\sum(x_i) - 1 = 0, g(x_i) = - x_i \\le 0$$\n",
    "\n",
    "$$L = \\frac{1}{2} x^T \\Omega x + \\lambda(\\sum(x_i) - 1) + \\mu^T (-x_i)) + r(\\sum(x_i) - 1)^2 + \\sum(t_i (-x_i)^2_+), \\mu_i \\ge 0$$\n",
    "\n",
    "Минимизируя по $\\lambda$ и $\\mu$ получаем метод:\n",
    "$$ \\lambda_{k+1} = \\lambda_k + 2r(\\sum(x_i(\\mu_k,\\lambda_k)) - 1), \\mu_{k+1} = (\\mu_k - 2rx(\\mu_k, \\lambda_k))_+ $$\n",
    "$$x(\\lambda, \\mu) =  ( \\mu - \\lambda*1) \\Omega^{-1}$$"
   ]
  },
  {
   "cell_type": "markdown",
   "metadata": {},
   "source": [
    "Но эта задача у меня не получилась, поэтому решим сначала задачу попроше:\n",
    "    $$min(2x_1^2 + 3x_2^2 - x_1 +x_1x_2)$$\n",
    "    $$x_1+x_2=7$$\n",
    "    $$L(x,\\lambda) = (2x_1^2 + 3x_2^2 - x_1 +x_1x_2) + \\lambda(x_1 +x_2 - 7)$$\n",
    "    $$ Ax = t $$\n",
    "    $$ A = \\begin{pmatrix}\n",
    "  4 & 1\\\\\n",
    "  1& 6\n",
    "\\end{pmatrix} , t = - \\lambda + \\begin{pmatrix}\n",
    "  1\\\\\n",
    "  0\n",
    "\\end{pmatrix}$$"
   ]
  },
  {
   "cell_type": "code",
   "execution_count": 119,
   "metadata": {
    "collapsed": true
   },
   "outputs": [],
   "source": [
    "A = np.array([[4,1],[1,6]])"
   ]
  },
  {
   "cell_type": "code",
   "execution_count": 138,
   "metadata": {
    "collapsed": false
   },
   "outputs": [],
   "source": [
    "def f(x):\n",
    "    x = np.array(x)\n",
    "    return 2*x[0]*x[0] + 3*x[1]*x[1] - x[0] +x[0]*x[1]\n",
    "    #return 0.5*np.dot(np.dot(x.T, omega), x)\n",
    "def x(l): \n",
    "    #return np.dot(np.linalg.inv(omega),(m + l*np.ones(4)))\n",
    "    t = np.array([[1],[0]])\n",
    "    x = np.linalg.solve(A, -l +t)\n",
    "    return x\n",
    "\n",
    "def h(x):\n",
    "    #return (np.sum(x) - 1)\n",
    "    return np.sum(x) - 7"
   ]
  },
  {
   "cell_type": "code",
   "execution_count": 139,
   "metadata": {
    "collapsed": false
   },
   "outputs": [],
   "source": [
    "def method(t, start_lambda ,max_number_iterations, eps = 10**(-8)):\n",
    "    current_lambda = start_lambda\n",
    "    #current_mu = start_mu\n",
    "    for i in range(max_number_iterations):\n",
    "        current_x = x(current_lambda)       \n",
    "        if (i > 0):\n",
    "            \n",
    "            if (((current_lambda - previous_lambda)*(current_lambda - previous_lambda) < eps*eps)): #and\\\n",
    "                #(((current_mu - previous_mu).dot(current_mu - previous_mu) < eps*eps))):\n",
    "                return current_x, f(current_x), np.sum(current_x), i\n",
    "            else:\n",
    "                previous_lambda = current_lambda\n",
    "                current_lambda = current_lambda + 2 * t * h(current_x) \n",
    "                #previous_mu = current_mu\n",
    "                #current_mu = (current_mu - 2 * t * current_x).clip(min=0)\n",
    "        else: \n",
    "            previous_lambda = current_lambda\n",
    "            current_lambda = current_lambda + 2 * t * h(current_x)\n",
    "            #previous_mu = current_mu\n",
    "            #current_mu = (current_mu - 2 * t * current_x).clip(min=0)\n",
    "            \n",
    "                    \n",
    "    return current_x, f(current_x), np.sum(current_x), \"over 500000\""
   ]
  },
  {
   "cell_type": "code",
   "execution_count": 140,
   "metadata": {
    "collapsed": false
   },
   "outputs": [],
   "source": [
    "start_lambda = 0"
   ]
  },
  {
   "cell_type": "code",
   "execution_count": 143,
   "metadata": {
    "collapsed": false
   },
   "outputs": [],
   "source": [
    "df2 = pd.DataFrame({ 'Вес 0.05' : method(0.5,start_lambda, max_number_iterations=500000), \n",
    "                       'Вес 0.2' : method(0.2,start_lambda, max_number_iterations=500000),\n",
    "                       'Вес 0.25' : method(0.25,start_lambda, max_number_iterations=500000),\n",
    "                    }, index = [\"x\", \"f(x)\", \"sum(x)\", \"method converged at iteration\"])"
   ]
  },
  {
   "cell_type": "code",
   "execution_count": 116,
   "metadata": {
    "collapsed": false,
    "scrolled": true
   },
   "outputs": [
    {
     "data": {
      "text/html": [
       "<div>\n",
       "<table border=\"1\" class=\"dataframe\">\n",
       "  <thead>\n",
       "    <tr style=\"text-align: right;\">\n",
       "      <th></th>\n",
       "      <th>Вес 0.05</th>\n",
       "      <th>Вес 0.2</th>\n",
       "      <th>Вес 0.25</th>\n",
       "    </tr>\n",
       "  </thead>\n",
       "  <tbody>\n",
       "    <tr>\n",
       "      <th>x</th>\n",
       "      <td>[[4.49999994102], [2.49999996461]]</td>\n",
       "      <td>[[4.49999998729], [2.49999999238]]</td>\n",
       "      <td>[[4.49999999005], [2.49999999403]]</td>\n",
       "    </tr>\n",
       "    <tr>\n",
       "      <th>f(x)</th>\n",
       "      <td>[65.9999981597]</td>\n",
       "      <td>[65.9999996035]</td>\n",
       "      <td>[65.9999996895]</td>\n",
       "    </tr>\n",
       "    <tr>\n",
       "      <th>sum(x)</th>\n",
       "      <td>7</td>\n",
       "      <td>7</td>\n",
       "      <td>7</td>\n",
       "    </tr>\n",
       "    <tr>\n",
       "      <th>method converged at iteration</th>\n",
       "      <td>511</td>\n",
       "      <td>131</td>\n",
       "      <td>104</td>\n",
       "    </tr>\n",
       "  </tbody>\n",
       "</table>\n",
       "</div>"
      ],
      "text/plain": [
       "                                                         Вес 0.05  \\\n",
       "x                              [[4.49999994102], [2.49999996461]]   \n",
       "f(x)                                              [65.9999981597]   \n",
       "sum(x)                                                          7   \n",
       "method converged at iteration                                 511   \n",
       "\n",
       "                                                          Вес 0.2  \\\n",
       "x                              [[4.49999998729], [2.49999999238]]   \n",
       "f(x)                                              [65.9999996035]   \n",
       "sum(x)                                                          7   \n",
       "method converged at iteration                                 131   \n",
       "\n",
       "                                                         Вес 0.25  \n",
       "x                              [[4.49999999005], [2.49999999403]]  \n",
       "f(x)                                              [65.9999996895]  \n",
       "sum(x)                                                          7  \n",
       "method converged at iteration                                 104  "
      ]
     },
     "execution_count": 116,
     "metadata": {},
     "output_type": "execute_result"
    }
   ],
   "source": [
    "df2"
   ]
  },
  {
   "cell_type": "markdown",
   "metadata": {},
   "source": [
    "#### Аналитическое решение"
   ]
  },
  {
   "cell_type": "markdown",
   "metadata": {},
   "source": [
    "$f(x) = 2x_1^2 + 3x_2^2 - x_1 +x_1x_2 + t(x_1 + x_2 - 7)^2$ - выпуклая функция, поэтому $\\nabla f(x) = 0$ необходимое и достаточное условие экстремума. \n",
    "$$\\nabla f(x) = Ax + 2t(x_1 + x_2 -7)*1 - b = 0$$\n",
    "$$ Bx = 14t*1 + b$$\n",
    "$$ B = \\begin{pmatrix}\n",
    "  4 + 2t& 1 + 2t\\\\\n",
    "  1 + 2t& 6 + 2t\n",
    "\\end{pmatrix}, b = \\begin{pmatrix}\n",
    "  1\\\\\n",
    "  0\n",
    "\\end{pmatrix}$$"
   ]
  },
  {
   "cell_type": "code",
   "execution_count": 135,
   "metadata": {
    "collapsed": false
   },
   "outputs": [],
   "source": [
    "t = 20\n",
    "B = A + 2*t*(np.ones(2)*np.ones(2).T)\n",
    "x = np.linalg.solve(B, 14*t*np.ones(2) + [1,0])"
   ]
  },
  {
   "cell_type": "code",
   "execution_count": 136,
   "metadata": {
    "collapsed": false
   },
   "outputs": [
    {
     "data": {
      "text/plain": [
       "array([ 4.21574344,  2.32944606])"
      ]
     },
     "execution_count": 136,
     "metadata": {},
     "output_type": "execute_result"
    }
   ],
   "source": [
    "x"
   ]
  },
  {
   "cell_type": "markdown",
   "metadata": {},
   "source": [
    "## Конец"
   ]
  }
 ],
 "metadata": {
  "kernelspec": {
   "display_name": "Python 2",
   "language": "python",
   "name": "python2"
  },
  "language_info": {
   "codemirror_mode": {
    "name": "ipython",
    "version": 2
   },
   "file_extension": ".py",
   "mimetype": "text/x-python",
   "name": "python",
   "nbconvert_exporter": "python",
   "pygments_lexer": "ipython2",
   "version": "2.7.13"
  }
 },
 "nbformat": 4,
 "nbformat_minor": 2
}
