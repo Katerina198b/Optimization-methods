{
 "cells": [
  {
   "cell_type": "markdown",
   "metadata": {},
   "source": [
    "# Метод внутренней точки\n",
    "### Замятина Екатерина 476 группа"
   ]
  },
  {
   "cell_type": "code",
   "execution_count": 57,
   "metadata": {
    "collapsed": true
   },
   "outputs": [],
   "source": [
    "import pandas as pd\n",
    "import math"
   ]
  },
  {
   "cell_type": "code",
   "execution_count": 15,
   "metadata": {
    "collapsed": true
   },
   "outputs": [],
   "source": [
    "data = pd.read_csv('data1.csv', encoding='utf7').astype(float)"
   ]
  },
  {
   "cell_type": "code",
   "execution_count": 16,
   "metadata": {
    "collapsed": true
   },
   "outputs": [],
   "source": [
    "r = data.median(0)"
   ]
  },
  {
   "cell_type": "markdown",
   "metadata": {},
   "source": [
    "### Среднее значение прибыли"
   ]
  },
  {
   "cell_type": "code",
   "execution_count": 17,
   "metadata": {
    "collapsed": false
   },
   "outputs": [
    {
     "name": "stdout",
     "output_type": "stream",
     "text": [
      "SBER       0.003859\n",
      "MEGAFON   -0.002380\n",
      "YANDEX    -0.000475\n",
      "ROSN      -0.003660\n",
      "dtype: float64\n"
     ]
    }
   ],
   "source": [
    "print r"
   ]
  },
  {
   "cell_type": "code",
   "execution_count": 18,
   "metadata": {
    "collapsed": true
   },
   "outputs": [],
   "source": [
    "R = 0.012\n",
    "sigma = 0.1"
   ]
  },
  {
   "cell_type": "markdown",
   "metadata": {},
   "source": [
    "### Матрица ковариации"
   ]
  },
  {
   "cell_type": "code",
   "execution_count": 19,
   "metadata": {
    "collapsed": false
   },
   "outputs": [
    {
     "data": {
      "text/html": [
       "<div>\n",
       "<table border=\"1\" class=\"dataframe\">\n",
       "  <thead>\n",
       "    <tr style=\"text-align: right;\">\n",
       "      <th></th>\n",
       "      <th>SBER</th>\n",
       "      <th>MEGAFON</th>\n",
       "      <th>YANDEX</th>\n",
       "      <th>ROSN</th>\n",
       "    </tr>\n",
       "  </thead>\n",
       "  <tbody>\n",
       "    <tr>\n",
       "      <th>SBER</th>\n",
       "      <td>0.001747</td>\n",
       "      <td>0.000317</td>\n",
       "      <td>0.001005</td>\n",
       "      <td>0.001107</td>\n",
       "    </tr>\n",
       "    <tr>\n",
       "      <th>MEGAFON</th>\n",
       "      <td>0.000317</td>\n",
       "      <td>0.001488</td>\n",
       "      <td>0.000438</td>\n",
       "      <td>0.000527</td>\n",
       "    </tr>\n",
       "    <tr>\n",
       "      <th>YANDEX</th>\n",
       "      <td>0.001005</td>\n",
       "      <td>0.000438</td>\n",
       "      <td>0.002834</td>\n",
       "      <td>0.000879</td>\n",
       "    </tr>\n",
       "    <tr>\n",
       "      <th>ROSN</th>\n",
       "      <td>0.001107</td>\n",
       "      <td>0.000527</td>\n",
       "      <td>0.000879</td>\n",
       "      <td>0.001927</td>\n",
       "    </tr>\n",
       "  </tbody>\n",
       "</table>\n",
       "</div>"
      ],
      "text/plain": [
       "             SBER   MEGAFON    YANDEX      ROSN\n",
       "SBER     0.001747  0.000317  0.001005  0.001107\n",
       "MEGAFON  0.000317  0.001488  0.000438  0.000527\n",
       "YANDEX   0.001005  0.000438  0.002834  0.000879\n",
       "ROSN     0.001107  0.000527  0.000879  0.001927"
      ]
     },
     "execution_count": 19,
     "metadata": {},
     "output_type": "execute_result"
    }
   ],
   "source": [
    "data.cov()"
   ]
  },
  {
   "cell_type": "code",
   "execution_count": 20,
   "metadata": {
    "collapsed": true
   },
   "outputs": [],
   "source": [
    "import numpy as np"
   ]
  },
  {
   "cell_type": "code",
   "execution_count": 104,
   "metadata": {
    "collapsed": false
   },
   "outputs": [],
   "source": [
    "omega = np.array(data.cov())"
   ]
  },
  {
   "cell_type": "code",
   "execution_count": 46,
   "metadata": {
    "collapsed": true
   },
   "outputs": [],
   "source": [
    "def f(x):\n",
    "    x = np.array(x)\n",
    "    return 0.5*np.dot(np.dot(x.T, omega), x)"
   ]
  },
  {
   "cell_type": "code",
   "execution_count": 60,
   "metadata": {
    "collapsed": true
   },
   "outputs": [],
   "source": [
    "def g(x):\n",
    "    g = 0\n",
    "    for i in range(4):\n",
    "       g = g + math.log(1 - x[i]) \n",
    "    return g"
   ]
  },
  {
   "cell_type": "markdown",
   "metadata": {},
   "source": [
    "### Гессиан"
   ]
  },
  {
   "cell_type": "markdown",
   "metadata": {},
   "source": [
    "$\\nabla ^2 = \\Omega- p(\\dfrac{1}{(1 - \\sum x_i)^2} + \\dfrac{(r,r)}{(R - rx)^2})*\n",
    "\\begin{pmatrix}\n",
    "1 & 1 & 1 & 1 \\\\\n",
    "1 & 1 & 1 & 1 \\\\        \n",
    "1 & 1 & 1 & 1 \\\\\n",
    "1 & 1 & 1 & 1\n",
    "\\end{pmatrix}$"
   ]
  },
  {
   "cell_type": "code",
   "execution_count": 123,
   "metadata": {
    "collapsed": false
   },
   "outputs": [],
   "source": [
    "def gess_g(x,p):\n",
    "    return omega - p* ((1 - np.sum(x))**(-2) + np.dot(r,r)*(R - np.dot(r,x))**(-2))*np.ones((4,4))"
   ]
  },
  {
   "cell_type": "markdown",
   "metadata": {},
   "source": [
    "### Градиен"
   ]
  },
  {
   "cell_type": "markdown",
   "metadata": {},
   "source": [
    "Градиент:\n",
    "$\\nabla g(x_k) = \\Omega x - p(\\dfrac{\\bf{1}}{1 - \\sum x_i} + \\dfrac{r}{R - xr})$"
   ]
  },
  {
   "cell_type": "code",
   "execution_count": 119,
   "metadata": {
    "collapsed": true
   },
   "outputs": [],
   "source": [
    "def grad_g(x,p):\n",
    "    return np.dot(omega,x) - p*x/(1 - np.sum(x))"
   ]
  },
  {
   "cell_type": "markdown",
   "metadata": {},
   "source": [
    "### Метод Ньютона"
   ]
  },
  {
   "cell_type": "markdown",
   "metadata": {},
   "source": [
    "$argmin(\\frac{1}{2}(x^T \\Sigma x) - p\\sum log(-h_i(x))) $\n",
    "\n",
    "$ h(x) = 1 - \\sum x_i$\n",
    "\n",
    "$ h(x) = R - \\sum x_i*r_i $\n",
    "\n",
    "Метод Ньютона:\n",
    "\n",
    "$x_{k+1} = x_k - [\\nabla^2 g(x_k)]^{-1} \\nabla g(x_k)$\n",
    "\n",
    "$ g(x_k) = \\frac{1}{2}(x^T \\Sigma x) - p\\sum log(-h_i(x))$"
   ]
  },
  {
   "cell_type": "code",
   "execution_count": 120,
   "metadata": {
    "collapsed": false
   },
   "outputs": [],
   "source": [
    "def argmin(x, p, max_number_iterations = 500000, eps = 10**(-8)):\n",
    "    current_x = x\n",
    "    current_f = f(current_x)\n",
    "    function = f(x) - p*(g(x) + math.log(math.fabs(np.dot(x.T, r) - R)))\n",
    "    for i in range(max_number_iterations):\n",
    "        if (i > 0):\n",
    "            if np.dot(current_x - previous_x, current_x - previous_x) < eps*eps:\n",
    "                return (current_x, \"ok\")\n",
    "        previous_x = current_x\n",
    "        current_x = previous_x - np.dot(np.linalg.inv(gess_g(x,p)), grad_g(x,p))\n",
    "        current_p = sigma * p\n",
    "    return (current_x, \"error\")                 \n",
    "    "
   ]
  },
  {
   "cell_type": "markdown",
   "metadata": {},
   "source": [
    "### Метод внутренней точки"
   ]
  },
  {
   "cell_type": "markdown",
   "metadata": {},
   "source": [
    "$x_{k+1} = argmin(\\frac{1}{2}(x^T \\Sigma x) - p\\sum log(-h_i(x))) $"
   ]
  },
  {
   "cell_type": "code",
   "execution_count": 121,
   "metadata": {
    "collapsed": true
   },
   "outputs": [],
   "source": [
    "def method(p, x, max_number_iterations, eps = 10**(-8)):\n",
    "    current_x = x\n",
    "    current_p = p\n",
    "    for i in range(max_number_iterations):\n",
    "        if (i > 0):\n",
    "            if np.dot(current_x - previous_x, current_x - previous_x) < eps*eps:\n",
    "                return (current_x, f(x), i)\n",
    "        previous_x = current_x\n",
    "        current_x, message = argmin(current_x, p)\n",
    "        if (message == \"error\"):\n",
    "            print \"Метод Ньютона не сошелся\"\n",
    "            return\n",
    "        current_p = sigma * p\n",
    "    return (current_x, f(x), \"over 500000\")"
   ]
  },
  {
   "cell_type": "code",
   "execution_count": 131,
   "metadata": {
    "collapsed": false
   },
   "outputs": [
    {
     "name": "stdout",
     "output_type": "stream",
     "text": [
      "Метод Ньютона не сошелся\n"
     ]
    }
   ],
   "source": [
    "start_point = 0.2*np.ones(4)\n",
    "df2 = pd.DataFrame({ 'p' : method(5,start_point, max_number_iterations=5000), \n",
    "                    }, index = [\"x\", \"f(x)\", \"method converged at iteration\"])"
   ]
  },
  {
   "cell_type": "code",
   "execution_count": null,
   "metadata": {
    "collapsed": true
   },
   "outputs": [],
   "source": []
  }
 ],
 "metadata": {
  "kernelspec": {
   "display_name": "Python 2",
   "language": "python",
   "name": "python2"
  },
  "language_info": {
   "codemirror_mode": {
    "name": "ipython",
    "version": 2
   },
   "file_extension": ".py",
   "mimetype": "text/x-python",
   "name": "python",
   "nbconvert_exporter": "python",
   "pygments_lexer": "ipython2",
   "version": "2.7.13"
  }
 },
 "nbformat": 4,
 "nbformat_minor": 2
}
