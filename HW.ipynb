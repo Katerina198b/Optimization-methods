{
 "cells": [
  {
   "cell_type": "markdown",
   "metadata": {},
   "source": [
    "### Замятина Екатерина 476 группа"
   ]
  },
  {
   "cell_type": "markdown",
   "metadata": {},
   "source": [
    "№ 3.5"
   ]
  },
  {
   "cell_type": "markdown",
   "metadata": {},
   "source": [
    "$|| x || = || B^{-1}Bx || \\le || B^{-1} ||*|| Bx || $\n",
    "\n",
    "\n",
    "$||Bx|| \\ge \\dfrac{||x||}{||B^{-1}||}$\n",
    "\n",
    "$ ||x||*||B|| \\ge ||Bx|| \\ge \\dfrac{||x||}{||B^{-1}||}$\n",
    "\n",
    "Дано: $||B||*||B^{-1}|| \\ge M$\n",
    "$p^TB^Tp = ||p^TB^Tp|| \\ge \\dfrac{||p||}{||(p^TB^T)^{-1}||} \\ge \\dfrac{||p||}{||B^{-T}p^{-T}||} \\ge \\dfrac{||p||}{||B^{-T}||*||p^{-T}||} = \\dfrac{||p||}{||B^{-1}||*||p^{-1}||} = [||p||*||p^{-1}|| \\ge ||pp^{-1}|| = 1] \\ge \\dfrac{||p||^2}{||B^{-1}||}$\n",
    "\n",
    "\n",
    "$||\\nabla f|| = ||-Bp|| \\le ||B||*||p||$"
   ]
  },
  {
   "cell_type": "markdown",
   "metadata": {},
   "source": [
    "$\\cos \\Theta_k = \\dfrac{-\\nabla f_k^T * p_k}{||\\nabla f_k||*||p_k||} = \\dfrac{(B_k*p_k)^T * p_k}{||p_k||*||\\nabla f_k||} \\ge \\dfrac{p_k^TB_k^Tp_k}{||p_k||*||B_k||*||p_k||} \\ge $ [\\числитель - это просто положительное число!] $  \\ge \\dfrac{||p||^2}{||B^{-1}||*||p||^2*||B||} \\ge \\dfrac{1}{M}$"
   ]
  },
  {
   "cell_type": "markdown",
   "metadata": {},
   "source": [
    "Тададададм! :-)"
   ]
  },
  {
   "cell_type": "markdown",
   "metadata": {},
   "source": [
    "№3.7"
   ]
  },
  {
   "cell_type": "markdown",
   "metadata": {},
   "source": [
    "$x_{k+1} = x_{k} - \\alpha_k*\\nabla f_k$\n",
    "\n",
    "$\\alpha_k = \\dfrac{\\nabla f_k^T \\nabla f_k}{\\nabla f_k^T Q \\nabla f_k}$\n",
    "\n",
    "$f(x) = \\frac{1}{2}x^TQx$\n",
    "\n",
    "$||x||^2_Q = x^TQx$\n",
    "\n",
    "$\\nabla f(x_k) = Q (x_k - x_*)$\n",
    "\n",
    "Доказать:\n",
    "\n",
    "$$||x_k - x_*||_Q^2 - ||x_{k+1} - x_*||^2_Q = ||x_k - x_*||^2_Q - ||x_k - x_* -  \\alpha_k*\\nabla f_k||^2_Q = (x_k - x*)^TQ(x_k - x_*) - (x_k - x*)^TQ(x_k - x*) + \\alpha_k\\nabla f_k^TQ(x_k - x*) + (x_k - x*)^TQ\\alpha_k\\nabla f_k - \\alpha_k\\nabla f_k^TQ\\alpha_k\\nabla f_k = $$ [так как Q - симместричная] = $$2\\alpha_k\\nabla f_k^TQ(x_k - x*) - \\alpha_k^2\\nabla f_k^TQ\\nabla f_k$$"
   ]
  },
  {
   "cell_type": "markdown",
   "metadata": {},
   "source": [
    "Докажем теперь 3.28:\n",
    "\n",
    "$$||x_k - x_*||^2 = (x_k - x*)^TQ(x_k - x_*) = (Q^{-1}\\nabla f_k)^TQQ^{-1}\\nabla f_k = \\nabla f_k^TQ^{-1}\\nabla f_k $$\n",
    "    \n",
    "$$||x_k - x_*||_Q - ||x_{k+1} - x_*||^2_Q = 2\\alpha_k\\nabla f_k^TQ(x_k - x*) + \\alpha_k^2\\nabla f_k^TQ\\nabla f_k =  2\\alpha_k\\nabla f_k^T\\nabla f(x_k) + \\alpha_k^2\\nabla f_k^TQ\\nabla f_k = 2\\dfrac{\\nabla f_k^T \\nabla f_k}{\\nabla f_k^T Q \\nabla f_k}\\nabla f_k^T\\nabla f(x_k) + (\\dfrac{\\nabla f_k^T \\nabla f_k}{\\nabla f_k^T Q \\nabla f_k})^2\\nabla f_k^TQ\\nabla f_k = (2 - 1)\\dfrac{(\\nabla f_k^T \\nabla f_k)^2}{\\nabla f_k^T Q \\nabla f_k} = \\dfrac{(\\nabla f_k^T \\nabla f_k)^2}{\\nabla f_k^T Q \\nabla f_k} = \\dfrac{(\\nabla f_k^T \\nabla f_k)^2}{(\\nabla f_k^T Q \\nabla f_k)*(\\nabla f_k^T Q^{-1} \\nabla f_k)}*||x_k - x_*||^2 $$\n",
    "Следовательно:\n",
    "\n",
    "$||x_{k+1} - x_*||_Q^2 = (1 - \\dfrac{(\\nabla f_k^T \\nabla f_k)^2}{(\\nabla f_k^T Q \\nabla f_k)*(\\nabla f_k^T Q^{-1} \\nabla f_k)})||x_k - x_*||^2$"
   ]
  },
  {
   "cell_type": "markdown",
   "metadata": {},
   "source": [
    "Вообще кажется в задаче опечатка и нет так никакой функии g - это они наверно f имели ввиду"
   ]
  },
  {
   "cell_type": "markdown",
   "metadata": {},
   "source": [
    "Ч.Т.Д."
   ]
  },
  {
   "cell_type": "markdown",
   "metadata": {},
   "source": [
    "№ 3.4"
   ]
  },
  {
   "cell_type": "markdown",
   "metadata": {},
   "source": [
    "Дано:\n",
    " Strongly convex function f(x) = $\\frac{1}{2}x^TQx + b^Tx + d$\n",
    "$c = \\frac{1}{2}$\n",
    "\n",
    "$\\alpha_k = - \\dfrac{\\nabla f_k^Tp_k}{p_k^TQp_k}$\n",
    "\n",
    "Goldstein condition: $f(x_k) + (1-c)\\alpha_k \\nabla f_k^T p_k \\le f(x_k + \\alpha_k p_k) \\le f(x_k) + c\\alpha_k \\nabla_k f_k^T p_k$"
   ]
  },
  {
   "cell_type": "markdown",
   "metadata": {},
   "source": [
    "Доказать, что для функции выше условия выше всегда выполненено."
   ]
  },
  {
   "cell_type": "markdown",
   "metadata": {},
   "source": [
    "Доказательство:"
   ]
  },
  {
   "cell_type": "markdown",
   "metadata": {},
   "source": [
    "$\\nabla f_k = x_k^TQ + b^T$\n",
    "\n",
    "$\\alpha_k = - \\dfrac{\\nabla f_k^Tp_k}{p_k^TQp_k} = - \\dfrac{(x_k^TQ + b^T)^Tp_k}{p_k^TQp_k} = -\\dfrac{(Q^Tx_k + b)p_k}{p_k^TQp_k} = -\\dfrac{(Q^Tx_k + b)}{p_k^TQ}$\n",
    "\n",
    "$f(x_k + \\alpha_k p_k) = \\frac{1}{2}(x_k + \\alpha_k p_k)^TQ(x_k + \\alpha_k p_k) + b^T(x_k + \\alpha_k p_k) + d = f(x_k) + \\frac{1}{2} (\\alpha_k p_k)^TQ(x_k + \\alpha_k p_k) + \\frac{1}{2}x_k^TQ\\alpha_k p_k + b^T\\alpha_k p_k = f(x_k) +  (\\alpha_k p_k)^TQx_k + \\frac{1}{2}(\\alpha_k p_k) ^TQ\\alpha_k p_k + b^T\\alpha_k p_k = -\\alpha_k* (p_k^T Q) * (\\alpha_k p_k) + f(x_k) + \\frac{1}{2}(\\alpha_k p_k) ^TQ\\alpha_k p_k = - \\frac{1}{2}(\\alpha_k p_k) ^TQ\\alpha_k p_k = - \\frac{1}{2} \\dfrac{(\\nabla f_k^T p_k)^2}{p_k^TQp_k} +f(x_k) = f(x_k) + \\frac{1}{2} \\alpha_k \\nabla f_k^T p_k$"
   ]
  },
  {
   "cell_type": "markdown",
   "metadata": {},
   "source": [
    "$c = 1/2$ Откуда, очевидно видно, что условие выполняется.\n",
    "\n",
    "Ч.Т.Д."
   ]
  },
  {
   "cell_type": "markdown",
   "metadata": {},
   "source": [
    "№13.9"
   ]
  },
  {
   "cell_type": "markdown",
   "metadata": {},
   "source": [
    "$\\begin{equation} \n",
    " \\begin{cases}\n",
    "   \\min -5x_1 - x_2\\\\\n",
    "   x_1 + x_2 \\le 5 \\\\\n",
    "    2x_1 + 0.5 x_2 \\le 8 \\\\\n",
    "    x_i  \\le 0, i \\in 1,2 \n",
    " \\end{cases}\n",
    "\\end{equation} \\Rightarrow $\n",
    "$\n",
    "\\begin{equation}\n",
    " \\begin{cases}\n",
    "   \\min -5x_1 - x_2\\\\\n",
    "   x_1 + x_2 + x_3 = 5 \\\\\n",
    "    x_4 + 2x_1 + 0.5 x_2 = 8 \\\\\n",
    "    x_i\\le 0 , i \\in 1,2,3,4\n",
    " \\end{cases}\n",
    "\\end{equation}$\n"
   ]
  },
  {
   "cell_type": "markdown",
   "metadata": {},
   "source": [
    "$x_3 = 0 , x_4 = 0$\n",
    "\n",
    "$x_4, x_3$ ищем из условий выше: \n",
    "\n",
    "$x_0 = (\\frac{11}{3}, \\frac{4}{3}, 0 ,0 )$"
   ]
  },
  {
   "cell_type": "markdown",
   "metadata": {},
   "source": [
    "Выразим $x_1, x_2 из x_3 , x_4:$\n",
    "\n",
    "$x_1 = \\frac{1}{5}(11 + x_3 - 2x_4)$\n",
    "\n",
    "$x_2 = \\frac{2}{3}(2 + x_4 - 2x_3)$\n",
    "\n",
    "Тогда f(x) = $-5x_1 - x_2 =  - 11 - x_3 + 2x_4 - \\frac{4}{3} - \\frac{2}{3}x_4 + \\frac{4}{3}x_3 = -\\frac{37}{3} + \\frac{1}{3}x_3 + \\frac{4}{3}x_4$"
   ]
  },
  {
   "cell_type": "markdown",
   "metadata": {},
   "source": [
    "\n",
    "\n",
    "\\begin{array}{r|rr} \\hline\n",
    "& const & x_3 & x_4 \\\\ \\hline\n",
    "x_1 &\\frac{11}{5} &\\frac{1}{5} &-\\frac{2}{5} \\\\ \\hline\n",
    "x_2 &\\frac{4}{3} &-\\frac{4}{3} &\\frac{2}{3} \\\\ \\hline\n",
    "f &-\\frac{37}{3} &\\frac{1}{3} &\\frac{4}{3} \\\\ \\hline\n",
    "\\end{array}\n"
   ]
  },
  {
   "cell_type": "markdown",
   "metadata": {},
   "source": [
    "$x_1 = \\frac{1}{2}(8 - x_4 - \\frac{1}{2}x_2) = 4 - \\frac{1}{2}x_4 - \\frac{1}{4}x_2$\n",
    "\n",
    "$x_3 = 5 - x_2 - \\frac{1}{2}(8 - x_4 - \\frac{1}{2} x_2) = 1 + \\frac{1}{2}x_4 - \\frac{3}{4}x_2$\n",
    "\n",
    "$f(x) = -5(4 - \\frac{1}{2}x_4 - \\frac{1}{4}x_2) - x_2 = -20 + \\frac{5}{2}x_4 + \\frac{1}{4}x_2$\n",
    "\n",
    "\n",
    "\\begin{array}{r|rr} \\hline\n",
    "& const & x_2 & x_4 \\\\ \\hline\n",
    "x_1 & 4  &-\\frac{1}{4} &-\\frac{1}{2} \\\\ \\hline\n",
    "x_3 & 1 &-\\frac{3}{4} &\\frac{1}{2} \\\\ \\hline\n",
    "f &-20 &\\frac{1}{4} &\\frac{5}{2} \\\\ \\hline\n",
    "\\end{array}"
   ]
  },
  {
   "cell_type": "markdown",
   "metadata": {},
   "source": [
    "Первая колонка по переменным положительна, значит найдено оптимальное решение: $x_1 = 4, x_2 = 0, f = 20$"
   ]
  },
  {
   "cell_type": "markdown",
   "metadata": {},
   "source": [
    "### Конец"
   ]
  }
 ],
 "metadata": {
  "kernelspec": {
   "display_name": "Python 2",
   "language": "python",
   "name": "python2"
  },
  "language_info": {
   "codemirror_mode": {
    "name": "ipython",
    "version": 2
   },
   "file_extension": ".py",
   "mimetype": "text/x-python",
   "name": "python",
   "nbconvert_exporter": "python",
   "pygments_lexer": "ipython2",
   "version": "2.7.13"
  }
 },
 "nbformat": 4,
 "nbformat_minor": 2
}
